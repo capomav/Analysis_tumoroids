{
 "cells": [
  {
   "cell_type": "code",
   "execution_count": 1,
   "id": "e25ad813",
   "metadata": {},
   "outputs": [],
   "source": [
    "import numpy as np\n",
    "import os\n",
    "import time\n",
    "import glob"
   ]
  },
  {
   "cell_type": "code",
   "execution_count": null,
   "id": "6607b1af",
   "metadata": {},
   "outputs": [],
   "source": [
    "## Taken form the SAMoSA -Analysis library developed by Silke Henkes\n",
    "## Refer for further details https://github.com/silkehenkes/SAMoSA\n",
    "## Dated : June 2025\n",
    "\n",
    "import pandas\n",
    "import gzip\n",
    "\n",
    "class ReadData:\n",
    "  \n",
    "\tdef __init__(self, filename,dialect):\n",
    "\t\tif filename.split('.')[-1] == 'gz':\n",
    "\t\t\tnames = ['id', 'type', 'flag', 'radius', 'x','y','z', 'vx', 'vy', 'vz', 'nx', 'ny', 'nz']\n",
    "\t\t\tself.datafile = gzip.open(filename, newline='')\n",
    "\t\t\tline = self.datafile.readline()\n",
    "\t\t\tself.header_names = 0\n",
    "\t\t\tif line.startswith(\"#\"):\n",
    "\t\t\t\tself.header_names = line[1:].strip().split()\n",
    "\t\t\tself.datafile.seek(0)\t\n",
    "\n",
    "\t\telse:\n",
    "\t\t\tself.datafile = open(filename, newline='')\n",
    "\t\t\tline = self.datafile.readline()\n",
    "\t\t\tself.header_names = 0\n",
    "\t\t\tnames = ['id', 'type', 'flag', 'radius', 'x','y','z', 'vx', 'vy', 'vz', 'nx', 'ny', 'nz']\n",
    "\t\t\tif line.startswith(\"#\"):\n",
    "\t\t\t\tself.header_names = line[1:].strip().split()\n",
    "\t\t\telse:\n",
    "\t\t\t\tself.header_names = names\n",
    "\t\t\tself.datafile.seek(0)\t\n",
    "\t\tself.dialect = dialect\n",
    "\t\tself.__read_data()\n",
    "\n",
    "\t\n",
    "\n",
    "\t# Read data using pandas. Simplify data structure for Configuration\n",
    "\tdef __read_data(self):\n",
    "\t\tif self.dialect == \"SAMoS\":\n",
    "\t\t\t\n",
    "\t\t\tself.data = pandas.read_csv(self.datafile,sep=r\"\\s+\", comment= \"#\", names = self.header_names)\n",
    "\t\t\t#\n",
    "\t\t\t# temp = self.data.columns\n",
    "\t\t\t#colshift = {}\n",
    "\t\t\t#for u in range(len(temp)-1): \n",
    "\t\t\t#\tcolshift[temp[u]] = temp[u+1]\n",
    "\t\t\t#self.data.rename(columns = {temp[len(temp)-1]: 'garbage'},inplace=True)\n",
    "\t\t\t#self.data.rename(columns = colshift,inplace=True,errors=\"raise\")\n",
    "\t\t\t#print(self.data.columns)\n",
    "\t\telif self.dialect == \"CCCPy\":\n",
    "\t\t\tself.data = pandas.read_csv(self.datafile,header=0)\n",
    "\t\t\t# look of the header\n",
    "\t\t\t# currTime,xPos,yPos,xVel,yVel,polAngle,polVel,xPol,yPol,rad,glued\n",
    "\t\t\t# We need to muck about with the headers to distil this to a unified format\n",
    "\t\t\t# Classical samos header:\n",
    "\t\t\t#  id  type  flag  radius  x  y  z  vx  vy  vz  nx  ny  nz \n",
    "\t\t\tself.data.rename(columns={\"xPos\": \"x\", \"yPos\": \"y\", \"xVel\": \"vx\", \"yVel\": \"vy\", \"xPol\": \"nx\", \"yPol\": \"ny\", \"rad\":\"radius\", \"glued\":\"type\"}, inplace=True,errors=\"raise\")\n",
    "\t\t\t#print(self.data.columns)\n",
    "\t\telif self.dialect == \"CAPMD\":\n",
    "\t\t\tself.data = pandas.read_csv(self.datafile,header=0)\n",
    "\t\telse:\n",
    "\t\t\tprint(\"Unknown data format dialect!\")\n",
    "\t\t\n"
   ]
  },
  {
   "cell_type": "code",
   "execution_count": 31,
   "id": "df1258b9",
   "metadata": {},
   "outputs": [],
   "source": [
    "def extract_positions(files_path,tp):\n",
    "    files = sorted(glob.glob(files_path))\n",
    "    \n",
    "\n",
    "    positions = []\n",
    "\n",
    "    for file in files:   \n",
    "        read_file = ReadData(file, \"SAMoS\")\n",
    "        read_data= read_file.data\n",
    "        data1 = read_data[read_data['type']==tp]\n",
    "        cur_positions = np.stack((data1['x'], data1['y'], data1['z'])).T\n",
    "        positions.append(cur_positions)\n",
    "    \n",
    "    positions = np.asarray(positions)\n",
    "    return positions"
   ]
  },
  {
   "cell_type": "code",
   "execution_count": 4,
   "id": "9e0bcf61",
   "metadata": {},
   "outputs": [],
   "source": [
    "def extract_vel(files_path):\n",
    "    files = sorted(glob.glob(files_path))\n",
    "\n",
    "    velocities = []\n",
    "\n",
    "    for file in files:   \n",
    "        read_file = ReadData(file, \"SAMoS\")\n",
    "        data1= read_file.data\n",
    "        cur_velocities = np.stack((data1['vx'], data1['vy'], data1['vz'])).T\n",
    "        velocities.append(cur_velocities)\n",
    "    \n",
    "    velocities = np.asarray(velocities)\n",
    "    return velocities\n"
   ]
  },
  {
   "cell_type": "code",
   "execution_count": 5,
   "id": "5f7d4a70",
   "metadata": {},
   "outputs": [],
   "source": [
    "def extract_directors(files_path):\n",
    "    files = sorted(glob.glob(files_path))\n",
    "\n",
    "    directors = []\n",
    "\n",
    "    for file in files:   \n",
    "        read_file = ReadData(file, \"SAMoS\")\n",
    "        data1= read_file.data\n",
    "        cur_directors = np.stack((data1['nx'], data1['ny'], data1['nz'])).T\n",
    "        directors.append(cur_directors)\n",
    "    \n",
    "    directors = np.asarray(directors)\n",
    "    return directors"
   ]
  },
  {
   "cell_type": "code",
   "execution_count": 6,
   "id": "69cc192d",
   "metadata": {},
   "outputs": [],
   "source": [
    "def extract_particle_radii(files_path):\n",
    "    files = sorted(glob.glob(files_path))\n",
    "    radii = []\n",
    "    for file in files:   \n",
    "        read_file = ReadData(file, \"SAMoS\")\n",
    "        data1= read_file.data\n",
    "        cur_radii = data1['radius']\n",
    "        radii.append(cur_radii)\n",
    "    \n",
    "    radii = np.asarray(radii)\n",
    "    return radii"
   ]
  },
  {
   "cell_type": "code",
   "execution_count": 7,
   "id": "70736f2c",
   "metadata": {},
   "outputs": [],
   "source": [
    "def radius_of_gyration(positions):\n",
    "    \n",
    "    N = np.shape(positions)[0]\n",
    "    sum_r = np.sum(positions, axis = 0)\n",
    "    sum_r2 = np.sum(np.sum(positions**2, axis=1))\n",
    "    rg_2 = sum_r2/N - np.sum(sum_r**2)/N**2\n",
    "    return np.sqrt(rg_2)"
   ]
  },
  {
   "cell_type": "code",
   "execution_count": 8,
   "id": "1c470ef1",
   "metadata": {},
   "outputs": [],
   "source": [
    "def center_of_mass(positions):\n",
    "    N = np.shape(positions)[0]\n",
    "    sum_r = np.sum(positions,axis = 0)\n",
    "    return sum_r/N"
   ]
  },
  {
   "cell_type": "code",
   "execution_count": null,
   "id": "4f9f095f",
   "metadata": {},
   "outputs": [],
   "source": [
    "output_file_path = \"/data1/pabshettiwar/Simulation_Softwares/SAMOS_ABP/tumoroid_system_alignments/1000-morse/pair_nematic/Seed-5/xi_1.0_J_0.5_dr_0.01_abp-p_0.3_ma_2.50_mD_0.08/output_*.dat\"\n",
    "dir_path = '/data1/pabshettiwar/Simulation_Softwares/SAMOS_ABP/tumoroid_system_alignments/1000-morse/pair_nematic/Seed-5/xi_1.0_J_0.5_dr_0.01_abp-p_0.3_ma_2.50_mD_0.08/'\n",
    "\n",
    "files = sorted(glob.glob(output_file_path))\n",
    "\n",
    "positions_ts = []\n",
    "\n",
    "for i, file in enumerate(files):   \n",
    "    read_file = ReadData(file, \"SAMoS\")\n",
    "    data_read= read_file.data\n",
    "\n",
    "    # extract type 1 particle\n",
    "    data_1 = data_read[data_read['type']==1]\n",
    "    position_cur = np.stack((data_1['x'], data_1['y']), axis = 1)    \n",
    "    positions_ts.append(position_cur)\n"
   ]
  },
  {
   "cell_type": "code",
   "execution_count": 10,
   "id": "3a549038",
   "metadata": {},
   "outputs": [],
   "source": [
    "import alphashape\n",
    "import matplotlib.pyplot as plt\n",
    "from shapely.geometry import Polygon\n",
    "from shapely.plotting import plot_polygon\n",
    "\n",
    "def get_shape(points,alpha):\n",
    "    alpha_shape = alphashape.alphashape(points, alpha)\n",
    "    #area = alpha_shape.area\n",
    "    #perimeter = alpha_shape.length\n",
    "\n",
    "    return alpha_shape #, area, perimeter"
   ]
  },
  {
   "cell_type": "code",
   "execution_count": 11,
   "id": "74243fd8",
   "metadata": {},
   "outputs": [],
   "source": [
    "def plot_cells(points):\n",
    "    # takes in the total points [(x,y), .. ] as arguments to plot\n",
    "    \n",
    "    x_points = points[0]\n",
    "    y_points = points[1]\n",
    "\n",
    "    fig,ax = plt.subplots(constrained_layout=True)\n",
    "    ax.scatter(x_points,y_points)\n",
    "    ax.set_aspect('equal', adjustable='box')\n",
    "    plt.gca().set_aspect('equal')\n",
    "    plt.show()"
   ]
  },
  {
   "cell_type": "code",
   "execution_count": 35,
   "id": "36e5e229",
   "metadata": {},
   "outputs": [],
   "source": [
    "from pathlib import Path\n",
    "\n",
    "def plot_alphashape(shape, points,frame = 1, outer_points= False,  dir = Path.cwd()):\n",
    "    # arguments : alpha shape, original points, total number of time frames, directory to save output files(images) \n",
    "    fig, ax = plt.subplots(constrained_layout=True)\n",
    "    ax.scatter(points.T[0], points.T[1], s=5)\n",
    "    ax.set_aspect('equal', adjustable='box')\n",
    "    ax.set_xlim(-50,50)\n",
    "    ax.set_ylim(-50,50)\n",
    "    plot_polygon(shape, ax=ax, add_points=outer_points, facecolor='orange', alpha = 0.5)\n",
    "    plt.savefig(os.path.join(dir, f\"tumor_alphashape_test_{frame:04d}.png\"), dpi = 100, format = 'png', )\n",
    "    plt.close()\n",
    "    return None"
   ]
  },
  {
   "cell_type": "code",
   "execution_count": 13,
   "id": "a4925957",
   "metadata": {},
   "outputs": [],
   "source": [
    "def get_shape_index(peri, area):\n",
    "    # shape index measures closeness to circle\n",
    "    # si = perimeter/ 2* (pi* area)**1/2 \n",
    "    si = peri / (2* np.sqrt(np.pi * area))\n",
    "    return si"
   ]
  },
  {
   "cell_type": "code",
   "execution_count": 28,
   "id": "06c2900e",
   "metadata": {},
   "outputs": [
    {
     "data": {
      "text/plain": [
       "\"\\ndef generate_traj_shapes(traj, alpha, dir = dir_path):\\n\\n    for frame in range(np.shape(traj)[0]):\\n        points_cur = traj[frame]\\n        a_shape = get_shape(points_cur, alpha)\\n        # a_shape, area, perimeter = get_shape(points_cur, alpha)\\n        plot_alphashape(a_shape, points_cur, frame = frame, outer_points= False, dir = os.path.join(dir_path, 'images/') ) \\n\\n\""
      ]
     },
     "execution_count": 28,
     "metadata": {},
     "output_type": "execute_result"
    }
   ],
   "source": [
    "'''\n",
    "def generate_traj_shapes(traj, alpha, dir = dir_path):\n",
    "\n",
    "    for frame in range(np.shape(traj)[0]):\n",
    "        points_cur = traj[frame]\n",
    "        a_shape = get_shape(points_cur, alpha)\n",
    "        # a_shape, area, perimeter = get_shape(points_cur, alpha)\n",
    "        plot_alphashape(a_shape, points_cur, frame = frame, outer_points= False, dir = os.path.join(dir_path, 'images/') ) \n",
    "\n",
    "'''\n"
   ]
  },
  {
   "cell_type": "code",
   "execution_count": 14,
   "id": "97290a4d",
   "metadata": {},
   "outputs": [],
   "source": [
    "def generate_traj_shapes(traj, alpha, dir):\n",
    "\n",
    "    for frame in range(np.shape(traj)[0]):\n",
    "        points_cur = traj[frame]\n",
    "        a_shape = get_shape(points_cur, alpha)\n",
    "        # a_shape, area, perimeter = get_shape(points_cur, alpha)\n",
    "        plot_alphashape(a_shape, points_cur, frame = frame, outer_points= False, dir = dir ) \n"
   ]
  },
  {
   "cell_type": "code",
   "execution_count": 37,
   "id": "b535760b",
   "metadata": {},
   "outputs": [],
   "source": [
    "data_dir_path = '/data1/pabshettiwar/Simulation_Softwares/SAMOS_ABP/tumoroid_system_alignments/1000-morse/pair_polar/Seed-5'\n",
    "alpha = 0.5\n",
    "\n",
    "for dir in os.listdir(data_dir_path):\n",
    "\n",
    "    cur_path = os.path.join(data_dir_path, dir)\n",
    "    \n",
    "    cur_output_files = os.path.join(cur_path, 'output_*.dat')\n",
    "    \n",
    "    cur_traj = extract_positions(cur_output_files, tp=1)\n",
    "\n",
    "    if not os.path.isdir(os.path.join(cur_path, 'alpha_images')):\n",
    "        os.mkdir(os.path.join(cur_path, 'alpha_images'))\n",
    "    \n",
    "    img_path = os.path.join(cur_path, 'alpha_images')\n",
    "    \n",
    "    generate_traj_shapes(cur_traj[101:,:,:2], alpha, dir = img_path )"
   ]
  },
  {
   "cell_type": "code",
   "execution_count": 39,
   "id": "3d4a4c45",
   "metadata": {},
   "outputs": [],
   "source": [
    "def MSD(positions:np.ndarray):\n",
    "    # simple msd calculations ==> |x(t) - x(0)|**2 for frame(t) and averaged over all particles for each frame i.e ensemble average\n",
    "    # there is no moving tau window used here  \n",
    "    msd = np.mean(np.sum((positions - positions[0,:,:][np.newaxis,:,:])**2, axis = 2), axis = 1)\n",
    "    return msd\n"
   ]
  },
  {
   "cell_type": "code",
   "execution_count": 43,
   "id": "7df4d6d9",
   "metadata": {},
   "outputs": [],
   "source": [
    "data_dir_path = '/data1/pabshettiwar/Simulation_Softwares/SAMOS_ABP/tumoroid_system_alignments/1000-morse/pair_polar/Seed-5'\n",
    "\n",
    "for dir in os.listdir(data_dir_path):\n",
    "\n",
    "    cur_path = os.path.join(data_dir_path, dir)\n",
    "\n",
    "    cur_output_files = os.path.join(cur_path, 'output_*.dat')\n",
    "\n",
    "    cur_traj = extract_positions(cur_output_files, tp=1)\n",
    "\n",
    "    msd_cur = MSD(cur_traj[101:])\n",
    "\n",
    "    rog_all = []\n",
    "\n",
    "    for i in range(np.shape(cur_traj)[0]):\n",
    "        rog = radius_of_gyration(cur_traj[i])\n",
    "        rog_all.append(rog)\n",
    "\n",
    "    fig,ax = plt.subplots()\n",
    "    ax.loglog(msd_cur)\n",
    "    plt.savefig(os.path.join(cur_path, f\"msd_c.png\"), format= \"png\", dpi = 200)\n",
    "    plt.close()\n",
    "\n",
    "    fig,ax = plt.subplots()\n",
    "    ax.plot(rog_all)\n",
    "    plt.savefig(os.path.join(cur_path,f\"Radius_of_gyration_c.png\"), format=\"png\", dpi = 200)\n",
    "    plt.close()\n"
   ]
  },
  {
   "cell_type": "code",
   "execution_count": null,
   "id": "80e4e238",
   "metadata": {},
   "outputs": [],
   "source": []
  }
 ],
 "metadata": {
  "kernelspec": {
   "display_name": "Python 3",
   "language": "python",
   "name": "python3"
  },
  "language_info": {
   "codemirror_mode": {
    "name": "ipython",
    "version": 3
   },
   "file_extension": ".py",
   "mimetype": "text/x-python",
   "name": "python",
   "nbconvert_exporter": "python",
   "pygments_lexer": "ipython3",
   "version": "3.13.3"
  }
 },
 "nbformat": 4,
 "nbformat_minor": 5
}
